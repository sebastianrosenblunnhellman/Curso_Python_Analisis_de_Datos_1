{
 "cells": [
  {
   "cell_type": "markdown",
   "metadata": {},
   "source": [
    "# Módulo 1: Fundamentos Básicos de Python"
   ]
  },
  {
   "cell_type": "markdown",
   "metadata": {},
   "source": [
    ">## 2.1 Variables\n",
    "### Las variables son espacios en memoria que almacenan un valor, el cual puede ser modificado durante la ejecución del programa. \n",
    "\n",
    "Podemos asignar un valor a una variable utilizando el simbolo = y colocando el dato que queremos que almacene dicha variable.\n"
   ]
  },
  {
   "cell_type": "code",
   "execution_count": 2,
   "metadata": {},
   "outputs": [],
   "source": [
    "# Declaración de diferentes variables\n",
    "nombre = \"Juan\"\n",
    "edad = 25\n",
    "sueldo = 1000.50\n",
    "estudiante = True"
   ]
  },
  {
   "cell_type": "code",
   "execution_count": 1,
   "metadata": {},
   "outputs": [],
   "source": [
    "# Esto es un comentario, no se procesa como codigo, sirve para dar indicaciones al programador."
   ]
  },
  {
   "cell_type": "code",
   "execution_count": 3,
   "metadata": {},
   "outputs": [
    {
     "name": "stdout",
     "output_type": "stream",
     "text": [
      "Hola, mundo!\n"
     ]
    }
   ],
   "source": [
    "# Recreado el famoso \"hola, mundo!\" con la funcion print()\n",
    "print(\"Hola, mundo!\")"
   ]
  },
  {
   "cell_type": "markdown",
   "metadata": {},
   "source": [
    ">## 2.2 Tipos de datos\n",
    "\n",
    "### En Python existen varios tipos de datos, algunos de los más comunes son:\n",
    "\n",
    "- Cadena de texto (STRING): Secuencia de caracteres que se encuentran entre comillas simples (' ') o dobles (\" \").\n",
    "\n",
    "- Entero (INTEGER): Número entero.\n",
    "\n",
    "- Flotante (FLOAT): Número con decimales.\n",
    "\n",
    "- Booleano (BOOLEAN): Valor lógico que puede ser verdadero (True) o falso (False)."
   ]
  },
  {
   "cell_type": "code",
   "execution_count": 6,
   "metadata": {},
   "outputs": [],
   "source": [
    "# Ejemplos de cada tipo de dato\n",
    "cadena_texto = \"Soy una variable string!\" \n",
    "entero = 42 \n",
    "flotante = 3.14159 \n",
    "booleano = False "
   ]
  },
  {
   "cell_type": "code",
   "execution_count": 7,
   "metadata": {},
   "outputs": [
    {
     "name": "stdout",
     "output_type": "stream",
     "text": [
      "<class 'str'>\n",
      "<class 'int'>\n",
      "<class 'float'>\n",
      "<class 'bool'>\n"
     ]
    }
   ],
   "source": [
    "# Tenemos que usar la funcion type dentro de la funcion print para que no se sobreescriba el resultado\n",
    "\n",
    "# Ahora si, observamos el tipo de dato de cada variable...\n",
    "print(type(cadena_texto))\n",
    "print(type(entero))\n",
    "print(type(flotante))\n",
    "print(type(booleano))"
   ]
  },
  {
   "cell_type": "markdown",
   "metadata": {},
   "source": [
    ">## 2.3 Operadores aritméticos\n",
    "\n",
    "### Los operadores aritméticos permiten realizar operaciones matemáticas básicas como suma, resta, multiplicación y división."
   ]
  },
  {
   "cell_type": "markdown",
   "metadata": {},
   "source": [
    "![Operadores aritméticos](img/operadores_aritmeticos.png)\n"
   ]
  },
  {
   "cell_type": "code",
   "execution_count": 12,
   "metadata": {},
   "outputs": [
    {
     "name": "stdout",
     "output_type": "stream",
     "text": [
      "7\n",
      "3\n",
      "10\n",
      "10\n",
      "1\n",
      "2\n",
      "25\n"
     ]
    }
   ],
   "source": [
    "# Ejemplos de operaciones aritméticas\n",
    "\n",
    "# Suma \n",
    "print(5+2)\n",
    "\n",
    "# Resta \n",
    "print(5-2)\n",
    "\n",
    "# Multiplicacion\n",
    "print(5*2)\n",
    "\n",
    "# Division \n",
    "print(5/2)\n",
    "\n",
    "# Modulo (resto de la division)\n",
    "print(5%2)\n",
    "\n",
    "# Division baja (entero de la division)\n",
    "print(5//2)\n",
    "\n",
    "# Exponente\n",
    "print(5**2)"
   ]
  },
  {
   "cell_type": "markdown",
   "metadata": {},
   "source": [
    ">## 2.4 Operadores de comparación\n",
    "\n",
    "### Los operadores de comparación permiten comparar dos valores y devolver un valor booleano (verdadero o falso) según el resultado de dicha comparación."
   ]
  },
  {
   "cell_type": "markdown",
   "metadata": {},
   "source": [
    "![Operadores aritméticos](img/operadores_comparacion.jpg)\n"
   ]
  },
  {
   "cell_type": "code",
   "execution_count": null,
   "metadata": {},
   "outputs": [],
   "source": [
    "# Ejemplos de operadores de comparación\n",
    "\n",
    "# Igual que\n",
    "print(\"Igual que:\", 5 == 5) # True\n",
    "\n",
    "# Diferente de\n",
    "print(\"Diferente de:\", 5 != 5) # False\n",
    "\n",
    "# Mayor que\n",
    "print(\"Mayor que:\", 5 > 5) # False\n",
    "\n",
    "# Menor que\n",
    "print(\"Menor que:\", 10 < 5) # False\n",
    "\n",
    "# Mayor o igual que\n",
    "print(\"Mayor o igual que:\", 5 >= 5) # True\n",
    "\n",
    "# Menor o igual que\n",
    "print(\"Menor o igual que:\", 10 <= 5) # False"
   ]
  },
  {
   "cell_type": "markdown",
   "metadata": {},
   "source": [
    ">## 2.5 Operadores lógicos\n",
    "\n",
    "### Los operadores lógicos permiten combinar y evaluar expresiones booleanas (verdaderas o falsas)."
   ]
  },
  {
   "cell_type": "markdown",
   "metadata": {},
   "source": [
    "![Operadores aritméticos](img/operadores_logicos.png)\n"
   ]
  },
  {
   "cell_type": "code",
   "execution_count": null,
   "metadata": {},
   "outputs": [],
   "source": [
    "# Ejemplos de operadores lógicos\n",
    "\n",
    "# Vamos a iniciar unas variables con valores booleanos\n",
    "a = True\n",
    "b = False\n",
    "\n",
    "# Ahora vamos a usar operadores lógicos sobre dichas variables\n",
    "y = a and b\n",
    "o = a or b\n",
    "no = not a"
   ]
  },
  {
   "cell_type": "markdown",
   "metadata": {},
   "source": [
    ">## 2.6 Entrada de datos > input()\n",
    "\n",
    "### La función input() permite pedirle al usuario que ingrese un dato por teclado y guardarlo en una variable para utilizarlo más tarde en nuestro programa."
   ]
  },
  {
   "cell_type": "code",
   "execution_count": 14,
   "metadata": {},
   "outputs": [
    {
     "name": "stdout",
     "output_type": "stream",
     "text": [
      "Hola, sebas. Tienes 24 años.\n"
     ]
    }
   ],
   "source": [
    "# Ejemplo de entrada de datos por teclado (input)\n",
    "nombre = input(\"Ingrese su nombre: \")\n",
    "edad = int(input(\"Ingrese su edad: \"))\n",
    "\n",
    "print(f\"Hola, {nombre}. Tienes {edad} años.\")\n"
   ]
  }
 ],
 "metadata": {
  "kernelspec": {
   "display_name": "Python 3",
   "language": "python",
   "name": "python3"
  },
  "language_info": {
   "codemirror_mode": {
    "name": "ipython",
    "version": 3
   },
   "file_extension": ".py",
   "mimetype": "text/x-python",
   "name": "python",
   "nbconvert_exporter": "python",
   "pygments_lexer": "ipython3",
   "version": "3.9.0"
  }
 },
 "nbformat": 4,
 "nbformat_minor": 2
}
