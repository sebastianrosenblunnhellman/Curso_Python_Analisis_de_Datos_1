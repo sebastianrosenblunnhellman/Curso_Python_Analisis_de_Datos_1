{
 "cells": [
  {
   "cell_type": "code",
   "execution_count": 2,
   "metadata": {},
   "outputs": [],
   "source": [
    "import pandas as pd"
   ]
  },
  {
   "cell_type": "code",
   "execution_count": 4,
   "metadata": {},
   "outputs": [],
   "source": [
    "df = pd.read_csv(\"../DataSets/ansiedad_depresion_estudiantes.csv\")"
   ]
  },
  {
   "cell_type": "markdown",
   "metadata": {},
   "source": [
    "\n",
    "Realizar un análisis univariado te permitirá obtener una mejor comprensión de cada variable por separado y su distribucion y podrás identificar patrones, valores atípicos, y otras características importantes en el dataset.\n",
    "\n",
    "1. **fecha**: Como la variable es de tipo fecha, puedes obtener el rango de tiempo, la fecha de inicio y finalización de los datos recolectados, y la cantidad de registros por mes o semana.\n",
    "\n",
    "2. **genero**: Calcula la frecuencia y el porcentaje de cada categoría (M, F, u otras si las hubiera).\n",
    "\n",
    "3. **edad**: Calcula las medidas de tendencia central (media, mediana, y moda), dispersión (rango, varianza, y desviación estándar), y distribución (percentiles) de la variable edad.\n",
    "\n",
    "4. **carrera**: Crea una lista de las carreras más frecuentes, y calcula el porcentaje de cada carrera en el dataset.\n",
    "\n",
    "5. **ansiedad**: Calcula la frecuencia y el porcentaje de personas con y sin ansiedad.\n",
    "\n",
    "6. **depresion**: Calcula la frecuencia y el porcentaje de personas con y sin depresión.\n",
    "\n",
    "7. **tratamiento**: Calcula la frecuencia y el porcentaje de personas que reciben tratamiento y las que no.\n",
    "\n",
    "8. **hs_estudio_semana**: Calcula las medidas de tendencia central, dispersión, y distribución del número de horas de estudio semanal.\n",
    "\n",
    "9. **ejercicio**: Calcula la frecuencia y el porcentaje de personas que realizan ejercicio y las que no.\n",
    "\n",
    "10. **apoyo_economico**: Calcula la frecuencia y el porcentaje de personas que reciben apoyo económico y las que no.\n",
    "\n",
    "11. **nivel_adquisitivo**: Calcula la frecuencia y el porcentaje de cada nivel adquisitivo (bajo, medio, alto, o cualesquiera otras categorías que aparezcan en el dataset).\n",
    "\n",
    "12. **trabajo**: Calcula la frecuencia y el porcentaje de personas que trabajan y las que no.\n",
    "\n",
    "13. **hijos**: Calcula la frecuencia y el porcentaje de personas que tienen hijos y las que no.\n",
    "\n",
    "14. **consumo_sustancias**: Calcula la frecuencia y el porcentaje de personas que consumen sustancias y las que no.\n",
    "\n",
    "15. **estado_civil**: Calcula la frecuencia y el porcentaje de cada categoría de estado civil (soltero, casado, divorciado, viudo, o cualesquiera otras categorías que aparezcan en el dataset).\n",
    "\n"
   ]
  },
  {
   "cell_type": "code",
   "execution_count": 7,
   "metadata": {},
   "outputs": [
    {
     "data": {
      "text/html": [
       "<div>\n",
       "<style scoped>\n",
       "    .dataframe tbody tr th:only-of-type {\n",
       "        vertical-align: middle;\n",
       "    }\n",
       "\n",
       "    .dataframe tbody tr th {\n",
       "        vertical-align: top;\n",
       "    }\n",
       "\n",
       "    .dataframe thead th {\n",
       "        text-align: right;\n",
       "    }\n",
       "</style>\n",
       "<table border=\"1\" class=\"dataframe\">\n",
       "  <thead>\n",
       "    <tr style=\"text-align: right;\">\n",
       "      <th></th>\n",
       "      <th>fecha</th>\n",
       "      <th>genero</th>\n",
       "      <th>edad</th>\n",
       "      <th>carrera</th>\n",
       "      <th>ansiedad</th>\n",
       "      <th>depresion</th>\n",
       "      <th>tratamiento</th>\n",
       "      <th>hs_estudio_semana</th>\n",
       "      <th>ejercicio</th>\n",
       "      <th>apoyo_economico</th>\n",
       "      <th>nivel_adquisitivo</th>\n",
       "      <th>trabajo</th>\n",
       "      <th>hijos</th>\n",
       "      <th>consumo_sustancias</th>\n",
       "      <th>estado_civil</th>\n",
       "    </tr>\n",
       "  </thead>\n",
       "  <tbody>\n",
       "    <tr>\n",
       "      <th>0</th>\n",
       "      <td>2020-03-05</td>\n",
       "      <td>M</td>\n",
       "      <td>20</td>\n",
       "      <td>ingenieria</td>\n",
       "      <td>si</td>\n",
       "      <td>no</td>\n",
       "      <td>no</td>\n",
       "      <td>26</td>\n",
       "      <td>si</td>\n",
       "      <td>si</td>\n",
       "      <td>bajo</td>\n",
       "      <td>no</td>\n",
       "      <td>no</td>\n",
       "      <td>no</td>\n",
       "      <td>casado</td>\n",
       "    </tr>\n",
       "  </tbody>\n",
       "</table>\n",
       "</div>"
      ],
      "text/plain": [
       "        fecha genero  edad     carrera ansiedad depresion tratamiento  \\\n",
       "0  2020-03-05      M    20  ingenieria       si        no          no   \n",
       "\n",
       "   hs_estudio_semana ejercicio apoyo_economico nivel_adquisitivo trabajo  \\\n",
       "0                 26        si              si              bajo      no   \n",
       "\n",
       "  hijos consumo_sustancias estado_civil  \n",
       "0    no                 no       casado  "
      ]
     },
     "execution_count": 7,
     "metadata": {},
     "output_type": "execute_result"
    }
   ],
   "source": [
    "df.head(1)"
   ]
  },
  {
   "cell_type": "markdown",
   "metadata": {},
   "source": [
    "# ideas = \n",
    "\n",
    "- los datos de 18 a 20 años que no tengan mas de 2 años de estudio\n",
    "- trabajar con condiciones = \n",
    "si hay ansiedad y si hay deprecion y si no hay tratamiento y hay nivel adquisitivo bajo consumo de sustancias y sin apoyo economico bajar 2 puntos \n",
    "- si cumplen las condiciones contrarias bajar un punto."
   ]
  },
  {
   "cell_type": "code",
   "execution_count": null,
   "metadata": {},
   "outputs": [],
   "source": []
  },
  {
   "cell_type": "markdown",
   "metadata": {},
   "source": [
    "Para realizar un análisis bivariado del dataset proporcionado, puedes explorar las relaciones entre las diferentes variables y obtener ideas de las siguientes maneras:\n",
    "\n",
    "1. **genero vs. ansiedad/depresion**: Verifica si existe alguna diferencia en la proporción de ansiedad y depresión entre hombres y mujeres. Puedes utilizar gráficos de barras apilados o tablas de contingencia para representar esta relación.\n",
    "\n",
    "2. **edad vs. ansiedad/depresion/tratamiento**: Analiza si la edad se relaciona con la presencia de ansiedad, depresión, o la búsqueda de tratamiento. Puedes utilizar gráficos de dispersión, diagramas de caja, o realizar correlaciones para explorar estas relaciones.\n",
    "\n",
    "3. **carrera vs. ansiedad/depresion**: Investiga si ciertas carreras tienen una mayor prevalencia de ansiedad y depresión en comparación con otras. Puedes utilizar gráficos de barras apilados o tablas de contingencia para representar esta información.\n",
    "\n",
    "4. **hs_estudio_semana vs. ansiedad/depresion**: Verifica si el número de horas de estudio semanal se relaciona con la ansiedad y depresión. Puedes utilizar gráficos de dispersión, diagramas de caja, o realizar correlaciones para explorar estas relaciones.\n",
    "\n",
    "5. **ejercicio vs. ansiedad/depresion**: Analiza si realizar ejercicio está asociado con menores niveles de ansiedad y depresión. Puedes utilizar gráficos de barras apilados o tablas de contingencia para representar esta información.\n",
    "\n",
    "6. **apoyo_economico/nivel_adquisitivo vs. ansiedad/depresion**: Investiga si el apoyo económico y el nivel adquisitivo se relacionan con la ansiedad y depresión. Puedes utilizar gráficos de barras apilados o tablas de contingencia para representar esta información.\n",
    "\n",
    "7. **trabajo vs. ansiedad/depresion**: Verifica si el hecho de trabajar o no se relaciona con la ansiedad y depresión. Puedes utilizar gráficos de barras apilados o tablas de contingencia para representar esta información.\n",
    "\n",
    "8. **hijos vs. ansiedad/depresion**: Analiza si tener hijos está asociado con mayores niveles de ansiedad y depresión. Puedes utilizar gráficos de barras apilados o tablas de contingencia para representar esta información.\n",
    "\n",
    "9. **consumo_sustancias vs. ansiedad/depresion**: Investiga si el consumo de sustancias se relaciona con la ansiedad y depresión. Puedes utilizar gráficos de barras apilados o tablas de contingencia para representar esta información.\n",
    "\n",
    "10. **estado_civil vs. ansiedad/depresion**: Verifica si el estado civil se relaciona con la ansiedad y depresión. Puedes utilizar gráficos de barras apilados o tablas de contingencia para representar esta información.\n",
    "\n",
    "Realizar un análisis bivariado te permitirá identificar posibles relaciones y asociaciones entre las variables, lo que puede ser útil para generar hipótesis y profundizar en el análisis."
   ]
  },
  {
   "cell_type": "code",
   "execution_count": null,
   "metadata": {},
   "outputs": [],
   "source": []
  }
 ],
 "metadata": {
  "kernelspec": {
   "display_name": "Python 3",
   "language": "python",
   "name": "python3"
  },
  "language_info": {
   "codemirror_mode": {
    "name": "ipython",
    "version": 3
   },
   "file_extension": ".py",
   "mimetype": "text/x-python",
   "name": "python",
   "nbconvert_exporter": "python",
   "pygments_lexer": "ipython3",
   "version": "3.9.0"
  }
 },
 "nbformat": 4,
 "nbformat_minor": 2
}
