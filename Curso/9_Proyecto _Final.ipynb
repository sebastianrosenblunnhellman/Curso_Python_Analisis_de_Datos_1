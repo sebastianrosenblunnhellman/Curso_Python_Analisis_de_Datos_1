{
 "cells": [
  {
   "cell_type": "code",
   "execution_count": 16,
   "metadata": {},
   "outputs": [],
   "source": [
    "# Vamos a importar las librerias que vamos a utilizar\n",
    "import pandas as pd\n",
    "import seaborn as sns\n",
    "import matplotlib.pyplot as plt"
   ]
  },
  {
   "cell_type": "code",
   "execution_count": 8,
   "metadata": {},
   "outputs": [],
   "source": [
    "# Iniciamos un dataframe de pandas cargando los datos para comenzar a trabajar\n",
    "datos = pd.read_csv(\"../DataSets/ansiedad_depresion_estudiantes.csv\")"
   ]
  },
  {
   "cell_type": "markdown",
   "metadata": {},
   "source": [
    "Antes de comenzar cualquier analisis posterior podriamos revisar si tenemos datos faltantes en nuestro conjunto de datos y actuar en consecuencia."
   ]
  },
  {
   "cell_type": "code",
   "execution_count": 35,
   "metadata": {},
   "outputs": [
    {
     "data": {
      "text/plain": [
       "fecha                 0\n",
       "genero                0\n",
       "edad                  0\n",
       "carrera               0\n",
       "ansiedad              0\n",
       "depresion             0\n",
       "tratamiento           0\n",
       "hs_estudio_semana     0\n",
       "ejercicio             0\n",
       "apoyo_economico       0\n",
       "nivel_adquisitivo     0\n",
       "trabajo               0\n",
       "hijos                 0\n",
       "consumo_sustancias    0\n",
       "estado_civil          0\n",
       "dtype: int64"
      ]
     },
     "execution_count": 35,
     "metadata": {},
     "output_type": "execute_result"
    }
   ],
   "source": [
    "# Contamos los nulos\n",
    "datos.isnull().sum()"
   ]
  },
  {
   "cell_type": "markdown",
   "metadata": {},
   "source": [
    "Vemos que no tenemos datos faltantes, si asi fuera tendriamos que plantear estrategias de imputacion de los datos faltantes o estableces un criterio para trabajar con ellos. En cualquier caso, siempre debemos documentar nuestras deciciones y el por que de ellas."
   ]
  },
  {
   "cell_type": "markdown",
   "metadata": {},
   "source": [
    "## Analisis univariado"
   ]
  },
  {
   "cell_type": "markdown",
   "metadata": {},
   "source": [
    "\n",
    "Realizar un análisis univariado nos permitirá obtener una mejor comprensión de cada variable por separado y su distribucion y podrás identificar patrones, valores atípicos, y otras características importantes en el dataset."
   ]
  },
  {
   "cell_type": "code",
   "execution_count": 9,
   "metadata": {},
   "outputs": [
    {
     "data": {
      "text/html": [
       "<div>\n",
       "<style scoped>\n",
       "    .dataframe tbody tr th:only-of-type {\n",
       "        vertical-align: middle;\n",
       "    }\n",
       "\n",
       "    .dataframe tbody tr th {\n",
       "        vertical-align: top;\n",
       "    }\n",
       "\n",
       "    .dataframe thead th {\n",
       "        text-align: right;\n",
       "    }\n",
       "</style>\n",
       "<table border=\"1\" class=\"dataframe\">\n",
       "  <thead>\n",
       "    <tr style=\"text-align: right;\">\n",
       "      <th></th>\n",
       "      <th>fecha</th>\n",
       "      <th>genero</th>\n",
       "      <th>edad</th>\n",
       "      <th>carrera</th>\n",
       "      <th>ansiedad</th>\n",
       "      <th>depresion</th>\n",
       "      <th>tratamiento</th>\n",
       "      <th>hs_estudio_semana</th>\n",
       "      <th>ejercicio</th>\n",
       "      <th>apoyo_economico</th>\n",
       "      <th>nivel_adquisitivo</th>\n",
       "      <th>trabajo</th>\n",
       "      <th>hijos</th>\n",
       "      <th>consumo_sustancias</th>\n",
       "      <th>estado_civil</th>\n",
       "    </tr>\n",
       "  </thead>\n",
       "  <tbody>\n",
       "    <tr>\n",
       "      <th>0</th>\n",
       "      <td>2020-03-05</td>\n",
       "      <td>M</td>\n",
       "      <td>20</td>\n",
       "      <td>ingenieria</td>\n",
       "      <td>si</td>\n",
       "      <td>no</td>\n",
       "      <td>no</td>\n",
       "      <td>26</td>\n",
       "      <td>si</td>\n",
       "      <td>si</td>\n",
       "      <td>bajo</td>\n",
       "      <td>no</td>\n",
       "      <td>no</td>\n",
       "      <td>no</td>\n",
       "      <td>casado</td>\n",
       "    </tr>\n",
       "    <tr>\n",
       "      <th>1</th>\n",
       "      <td>2020-12-11</td>\n",
       "      <td>H</td>\n",
       "      <td>19</td>\n",
       "      <td>sistemas</td>\n",
       "      <td>no</td>\n",
       "      <td>no</td>\n",
       "      <td>no</td>\n",
       "      <td>26</td>\n",
       "      <td>si</td>\n",
       "      <td>no</td>\n",
       "      <td>medio</td>\n",
       "      <td>no</td>\n",
       "      <td>no</td>\n",
       "      <td>si</td>\n",
       "      <td>casado</td>\n",
       "    </tr>\n",
       "    <tr>\n",
       "      <th>2</th>\n",
       "      <td>2020-11-15</td>\n",
       "      <td>H</td>\n",
       "      <td>25</td>\n",
       "      <td>sistemas</td>\n",
       "      <td>no</td>\n",
       "      <td>no</td>\n",
       "      <td>si</td>\n",
       "      <td>23</td>\n",
       "      <td>si</td>\n",
       "      <td>si</td>\n",
       "      <td>alto</td>\n",
       "      <td>si</td>\n",
       "      <td>no</td>\n",
       "      <td>no</td>\n",
       "      <td>casado</td>\n",
       "    </tr>\n",
       "    <tr>\n",
       "      <th>3</th>\n",
       "      <td>2020-03-16</td>\n",
       "      <td>M</td>\n",
       "      <td>24</td>\n",
       "      <td>enfermeria</td>\n",
       "      <td>si</td>\n",
       "      <td>no</td>\n",
       "      <td>si</td>\n",
       "      <td>15</td>\n",
       "      <td>no</td>\n",
       "      <td>no</td>\n",
       "      <td>medio</td>\n",
       "      <td>no</td>\n",
       "      <td>si</td>\n",
       "      <td>no</td>\n",
       "      <td>soltero</td>\n",
       "    </tr>\n",
       "    <tr>\n",
       "      <th>4</th>\n",
       "      <td>2020-12-13</td>\n",
       "      <td>H</td>\n",
       "      <td>21</td>\n",
       "      <td>ingenieria</td>\n",
       "      <td>no</td>\n",
       "      <td>no</td>\n",
       "      <td>no</td>\n",
       "      <td>5</td>\n",
       "      <td>no</td>\n",
       "      <td>si</td>\n",
       "      <td>alto</td>\n",
       "      <td>no</td>\n",
       "      <td>no</td>\n",
       "      <td>no</td>\n",
       "      <td>casado</td>\n",
       "    </tr>\n",
       "  </tbody>\n",
       "</table>\n",
       "</div>"
      ],
      "text/plain": [
       "        fecha genero  edad     carrera ansiedad depresion tratamiento  \\\n",
       "0  2020-03-05      M    20  ingenieria       si        no          no   \n",
       "1  2020-12-11      H    19    sistemas       no        no          no   \n",
       "2  2020-11-15      H    25    sistemas       no        no          si   \n",
       "3  2020-03-16      M    24  enfermeria       si        no          si   \n",
       "4  2020-12-13      H    21  ingenieria       no        no          no   \n",
       "\n",
       "   hs_estudio_semana ejercicio apoyo_economico nivel_adquisitivo trabajo  \\\n",
       "0                 26        si              si              bajo      no   \n",
       "1                 26        si              no             medio      no   \n",
       "2                 23        si              si              alto      si   \n",
       "3                 15        no              no             medio      no   \n",
       "4                  5        no              si              alto      no   \n",
       "\n",
       "  hijos consumo_sustancias estado_civil  \n",
       "0    no                 no       casado  \n",
       "1    no                 si       casado  \n",
       "2    no                 no       casado  \n",
       "3    si                 no      soltero  \n",
       "4    no                 no       casado  "
      ]
     },
     "execution_count": 9,
     "metadata": {},
     "output_type": "execute_result"
    }
   ],
   "source": [
    "# Vamos a dar un vistazo a nuestros datos.\n",
    "datos.head()"
   ]
  },
  {
   "cell_type": "markdown",
   "metadata": {},
   "source": [
    "Podemos ver solo las columnas (variables) de nuestro dataframe para comenzar\n",
    "a realizar mas comodamente el analisis univariado, columna por columna."
   ]
  },
  {
   "cell_type": "code",
   "execution_count": 10,
   "metadata": {},
   "outputs": [
    {
     "data": {
      "text/plain": [
       "Index(['fecha', 'genero', 'edad', 'carrera', 'ansiedad', 'depresion',\n",
       "       'tratamiento', 'hs_estudio_semana', 'ejercicio', 'apoyo_economico',\n",
       "       'nivel_adquisitivo', 'trabajo', 'hijos', 'consumo_sustancias',\n",
       "       'estado_civil'],\n",
       "      dtype='object')"
      ]
     },
     "execution_count": 10,
     "metadata": {},
     "output_type": "execute_result"
    }
   ],
   "source": [
    "datos.columns"
   ]
  },
  {
   "cell_type": "markdown",
   "metadata": {},
   "source": [
    "1. **GENERO**: Vamos a comenzar a analizar la columna genero y dejaremos fecha para mas adelante, ya que la variable fecha es un poco mas compleja de trabajar. Respecto al a la variable genero vamos vizalizar la distribucion de frecuencias de cada categoria (M, F, u otras si las hubiera).\n"
   ]
  },
  {
   "cell_type": "code",
   "execution_count": 29,
   "metadata": {},
   "outputs": [
    {
     "data": {
      "image/png": "[encoded data removed]",
      "text/plain": [
       "<Figure size 640x480 with 1 Axes>"
      ]
     },
     "metadata": {},
     "output_type": "display_data"
    }
   ],
   "source": [
    "# Crea un gráfico de conteo para visualizar la distribución de frecuencias de cada categoría en la columna \"genero\"\n",
    "sns.countplot(x=\"genero\", data=datos)\n",
    "\n",
    "# Configura el título y los nombres de los ejes\n",
    "plt.title(\"Distribución de frecuencias de género\")\n",
    "plt.xlabel(\"Género\")\n",
    "plt.ylabel(\"Frecuencia\")\n",
    "\n",
    "# Muestra el gráfico\n",
    "plt.show()\n"
   ]
  },
  {
   "cell_type": "markdown",
   "metadata": {},
   "source": [
    "---\n"
   ]
  },
  {
   "cell_type": "markdown",
   "metadata": {},
   "source": [
    "2. **EDAD**: Vamos a calcular las medidas de tendencia central (media, mediana, y moda), dispersión (rango, varianza, y desviación estándar), y  luego vamos a vizulizar la distribucion con un grafico de caja."
   ]
  },
  {
   "cell_type": "code",
   "execution_count": 31,
   "metadata": {},
   "outputs": [
    {
     "data": {
      "text/plain": [
       "count    200.000000\n",
       "mean      21.235000\n",
       "std        2.391311\n",
       "min       18.000000\n",
       "25%       19.000000\n",
       "50%       21.000000\n",
       "75%       23.000000\n",
       "max       25.000000\n",
       "Name: edad, dtype: float64"
      ]
     },
     "execution_count": 31,
     "metadata": {},
     "output_type": "execute_result"
    }
   ],
   "source": [
    "# Vamos a calcular algunos estadisticos de la variable edad\n",
    "datos[\"edad\"].describe()\n"
   ]
  },
  {
   "cell_type": "code",
   "execution_count": 34,
   "metadata": {},
   "outputs": [
    {
     "data": {
      "image/png": "[encoded data removed]",
      "text/plain": [
       "<Figure size 640x480 with 1 Axes>"
      ]
     },
     "metadata": {},
     "output_type": "display_data"
    }
   ],
   "source": [
    "# Visualiza la distribución de la variable \"edad\" utilizando un boxplot\n",
    "sns.boxplot(x=\"edad\", data=datos)\n",
    "\n",
    "# Configura el título y los nombres de los ejes\n",
    "plt.title(\"Distribución de la variable edad\")\n",
    "plt.xlabel(\"Edad\")\n",
    "plt.ylabel(\"Valores\")\n",
    "\n",
    "# Muestra el gráfico\n",
    "plt.show()\n"
   ]
  },
  {
   "cell_type": "markdown",
   "metadata": {},
   "source": [
    "El boxplot creado con sns.boxplot() debe mostrar los outliers (valores atípicos) por defecto. Los outliers son representados como puntos que se encuentran fuera de los \"bigotes\" (whiskers) del boxplot. En este caso no encontramos ningun outlier."
   ]
  },
  {
   "cell_type": "markdown",
   "metadata": {},
   "source": [
    "---"
   ]
  },
  {
   "cell_type": "markdown",
   "metadata": {},
   "source": []
  },
  {
   "cell_type": "code",
   "execution_count": 39,
   "metadata": {},
   "outputs": [
    {
     "data": {
      "image/png": "[encoded data removed]",
      "text/plain": [
       "<Figure size 1500x600 with 1 Axes>"
      ]
     },
     "metadata": {},
     "output_type": "display_data"
    }
   ],
   "source": [
    "# Ajusta el tamaño de la figura para que entren todos los datos\n",
    "plt.figure(figsize=(15, 6))\n",
    "\n",
    "# Crea un gráfico de barras con las carreras más frecuentes y sus frecuencias absolutas\n",
    "sns.countplot(x=\"carrera\", data=datos)\n",
    "\n",
    "# Configura el título y los nombres de los ejes\n",
    "plt.title(\"Carreras más frecuentes y sus frecuencias absolutas\")\n",
    "plt.xlabel(\"Carrera\")\n",
    "plt.ylabel(\"Frecuencia\")\n",
    "\n",
    "# Muestra el gráfico\n",
    "plt.show()"
   ]
  },
  {
   "cell_type": "markdown",
   "metadata": {},
   "source": [
    "---"
   ]
  },
  {
   "cell_type": "markdown",
   "metadata": {},
   "source": [
    "Dada la relacion que existen entre estas tres variables vamos a tratar de vizualizarlas juntas, en tres plots diferentes."
   ]
  },
  {
   "cell_type": "code",
   "execution_count": 40,
   "metadata": {},
   "outputs": [
    {
     "data": {
      "image/png": "[encoded data removed]",
      "text/plain": [
       "<Figure size 1500x500 with 3 Axes>"
      ]
     },
     "metadata": {},
     "output_type": "display_data"
    }
   ],
   "source": [
    "# Crea los subplots\n",
    "fig, axes = plt.subplots(1, 3, figsize=(15, 5))\n",
    "\n",
    "# Crea el gráfico de conteo para la variable \"depresion\"\n",
    "sns.countplot(x=\"depresion\", data=datos, ax=axes[0])\n",
    "axes[0].set_title(\"Conteo de depresión\")\n",
    "\n",
    "# Crea el gráfico de conteo para la variable \"ansiedad\"\n",
    "sns.countplot(x=\"ansiedad\", data=datos, ax=axes[1])\n",
    "axes[1].set_title(\"Conteo de ansiedad\")\n",
    "\n",
    "# Crea el gráfico de conteo para la variable \"tratamiento\"\n",
    "sns.countplot(x=\"tratamiento\", data=datos, ax=axes[2])\n",
    "axes[2].set_title(\"Conteo de tratamiento\")\n",
    "\n",
    "# Muestra los gráficos\n",
    "plt.tight_layout()\n",
    "plt.show()\n"
   ]
  },
  {
   "cell_type": "markdown",
   "metadata": {},
   "source": [
    "---"
   ]
  },
  {
   "cell_type": "markdown",
   "metadata": {},
   "source": [
    "\n"
   ]
  },
  {
   "cell_type": "markdown",
   "metadata": {},
   "source": [
    "9. **ejercicio**: Calcula la frecuencia y el porcentaje de personas que realizan ejercicio y las que no.\n",
    "12. **trabajo**: Calcula la frecuencia y el porcentaje de personas que trabajan y las que no.\n",
    "\n",
    "\n",
    "10. **apoyo_economico**: Calcula la frecuencia y el porcentaje de personas que reciben apoyo económico y las que no.\n",
    "13. **hijos**: Calcula la frecuencia y el porcentaje de personas que tienen hijos y las que no.\n",
    "\n",
    "14. **consumo_sustancias**: Calcula la frecuencia y el porcentaje de personas que consumen sustancias y las que no."
   ]
  },
  {
   "cell_type": "markdown",
   "metadata": {},
   "source": [
    "---"
   ]
  },
  {
   "cell_type": "markdown",
   "metadata": {},
   "source": [
    "x. **fecha**: Como la variable esta en formato fecha, podemos tratarla como de tipo datatime. Vamos a comenzar a contalivilar la distribucion de los datos para ver el inicio y el fin de recoleccion de los datos en terminos temporales."
   ]
  },
  {
   "cell_type": "code",
   "execution_count": 18,
   "metadata": {},
   "outputs": [
    {
     "data": {
      "text/plain": [
       "0      2020-03-05\n",
       "1      2020-12-11\n",
       "2      2020-11-15\n",
       "3      2020-03-16\n",
       "4      2020-12-13\n",
       "          ...    \n",
       "195    2019-06-02\n",
       "196    2019-07-25\n",
       "197    2019-09-15\n",
       "198    2019-02-07\n",
       "199    2019-05-20\n",
       "Name: fecha, Length: 200, dtype: object"
      ]
     },
     "execution_count": 18,
     "metadata": {},
     "output_type": "execute_result"
    }
   ],
   "source": [
    "# Antes de graficar la variable fecha observemosla con mas detalle\n",
    "datos[\"fecha\"]"
   ]
  },
  {
   "cell_type": "code",
   "execution_count": 23,
   "metadata": {},
   "outputs": [
    {
     "name": "stdout",
     "output_type": "stream",
     "text": [
      "object\n"
     ]
    }
   ],
   "source": [
    "# Vemos que el formato parece ser fecha pero tenemos que asegurarnos que es un dato de tipo datatime\n",
    "print(datos[\"fecha\"].dtype)"
   ]
  },
  {
   "cell_type": "markdown",
   "metadata": {},
   "source": [
    "Vemos que el formato es \"object\" y no \"datatime\" asi que vamos a utilizar la funcion de pandas correspondiente para trasformar los datos."
   ]
  },
  {
   "cell_type": "code",
   "execution_count": 24,
   "metadata": {},
   "outputs": [
    {
     "name": "stdout",
     "output_type": "stream",
     "text": [
      "datetime64[ns]\n"
     ]
    }
   ],
   "source": [
    "# Utilizamos la funcion 'pd.to_datetime()'\n",
    "datos[\"fecha\"] = pd.to_datetime(datos[\"fecha\"])\n",
    "\n",
    "# Verificamos nuevamente el tipo de dato de la columna \"fecha\" después de la conversión\n",
    "print(datos[\"fecha\"].dtype)\n"
   ]
  },
  {
   "cell_type": "code",
   "execution_count": 28,
   "metadata": {},
   "outputs": [
    {
     "name": "stdout",
     "output_type": "stream",
     "text": [
      "Fecha mínima: 2019-01-03 00:00:00\n",
      "Fecha máxima: 2020-12-30 00:00:00\n"
     ]
    }
   ],
   "source": [
    "# Obtén el mínimo y el máximo de las fechas\n",
    "fecha_min = datos[\"fecha\"].min()\n",
    "fecha_max = datos[\"fecha\"].max()\n",
    "\n",
    "print(f\"Fecha mínima: {fecha_min}\")\n",
    "print(f\"Fecha máxima: {fecha_max}\")\n"
   ]
  },
  {
   "cell_type": "markdown",
   "metadata": {},
   "source": [
    "# ideas = \n",
    "\n",
    "- los datos de 18 a 20 años que no tengan mas de 2 años de estudio\n",
    "- trabajar con condiciones = \n",
    "si hay ansiedad y si hay deprecion y si no hay tratamiento y hay nivel adquisitivo bajo consumo de sustancias y sin apoyo economico bajar 2 puntos \n",
    "- si cumplen las condiciones contrarias bajar un punto."
   ]
  },
  {
   "cell_type": "code",
   "execution_count": null,
   "metadata": {},
   "outputs": [],
   "source": []
  },
  {
   "cell_type": "markdown",
   "metadata": {},
   "source": [
    "Para realizar un análisis bivariado del dataset proporcionado, puedes explorar las relaciones entre las diferentes variables y obtener ideas de las siguientes maneras:\n",
    "\n",
    "1. **genero vs. ansiedad/depresion**: Verifica si existe alguna diferencia en la proporción de ansiedad y depresión entre hombres y mujeres. Puedes utilizar gráficos de barras apilados o tablas de contingencia para representar esta relación.\n",
    "\n",
    "2. **edad vs. ansiedad/depresion/tratamiento**: Analiza si la edad se relaciona con la presencia de ansiedad, depresión, o la búsqueda de tratamiento. Puedes utilizar gráficos de dispersión, diagramas de caja, o realizar correlaciones para explorar estas relaciones.\n",
    "\n",
    "3. **carrera vs. ansiedad/depresion**: Investiga si ciertas carreras tienen una mayor prevalencia de ansiedad y depresión en comparación con otras. Puedes utilizar gráficos de barras apilados o tablas de contingencia para representar esta información.\n",
    "\n",
    "4. **hs_estudio_semana vs. ansiedad/depresion**: Verifica si el número de horas de estudio semanal se relaciona con la ansiedad y depresión. Puedes utilizar gráficos de dispersión, diagramas de caja, o realizar correlaciones para explorar estas relaciones.\n",
    "\n",
    "5. **ejercicio vs. ansiedad/depresion**: Analiza si realizar ejercicio está asociado con menores niveles de ansiedad y depresión. Puedes utilizar gráficos de barras apilados o tablas de contingencia para representar esta información.\n",
    "\n",
    "6. **apoyo_economico/nivel_adquisitivo vs. ansiedad/depresion**: Investiga si el apoyo económico y el nivel adquisitivo se relacionan con la ansiedad y depresión. Puedes utilizar gráficos de barras apilados o tablas de contingencia para representar esta información.\n",
    "\n",
    "7. **trabajo vs. ansiedad/depresion**: Verifica si el hecho de trabajar o no se relaciona con la ansiedad y depresión. Puedes utilizar gráficos de barras apilados o tablas de contingencia para representar esta información.\n",
    "\n",
    "8. **hijos vs. ansiedad/depresion**: Analiza si tener hijos está asociado con mayores niveles de ansiedad y depresión. Puedes utilizar gráficos de barras apilados o tablas de contingencia para representar esta información.\n",
    "\n",
    "9. **consumo_sustancias vs. ansiedad/depresion**: Investiga si el consumo de sustancias se relaciona con la ansiedad y depresión. Puedes utilizar gráficos de barras apilados o tablas de contingencia para representar esta información.\n",
    "\n",
    "10. **estado_civil vs. ansiedad/depresion**: Verifica si el estado civil se relaciona con la ansiedad y depresión. Puedes utilizar gráficos de barras apilados o tablas de contingencia para representar esta información.\n",
    "\n",
    "Realizar un análisis bivariado te permitirá identificar posibles relaciones y asociaciones entre las variables, lo que puede ser útil para generar hipótesis y profundizar en el análisis."
   ]
  },
  {
   "cell_type": "code",
   "execution_count": null,
   "metadata": {},
   "outputs": [],
   "source": []
  }
 ],
 "metadata": {
  "kernelspec": {
   "display_name": "Python 3",
   "language": "python",
   "name": "python3"
  },
  "language_info": {
   "codemirror_mode": {
    "name": "ipython",
    "version": 3
   },
   "file_extension": ".py",
   "mimetype": "text/x-python",
   "name": "python",
   "nbconvert_exporter": "python",
   "pygments_lexer": "ipython3",
   "version": "3.9.0"
  }
 },
 "nbformat": 4,
 "nbformat_minor": 2
}
