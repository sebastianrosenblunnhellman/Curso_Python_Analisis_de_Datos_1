{
 "cells": [
  {
   "cell_type": "code",
   "execution_count": 2,
   "metadata": {},
   "outputs": [],
   "source": [
    "# Primero importamos la libreria de pandas bajo el alias 'pd'\n",
    "import pandas as pd"
   ]
  },
  {
   "cell_type": "markdown",
   "metadata": {},
   "source": [
    "# Introduccion a la manipulacion de datos con Pandas\n"
   ]
  },
  {
   "cell_type": "markdown",
   "metadata": {},
   "source": [
    "Un DataFrame en pandas es una estructura de datos bidimensional, similar a una hoja de cálculo de Excel. Consiste en filas y columnas, donde cada columna puede contener diferentes tipos de datos. Por otro lado, una Serie en pandas es una estructura de datos unidimensional. Puedes pensar en un DataFrame como una colección de Series, donde cada Serie representa una columna y comparten el mismo índice.\n",
    "\n",
    "La diferencia clave entre un DataFrame y una Serie es su dimensionalidad: un DataFrame es bidimensional (filas y columnas) mientras que una Serie es unidimensional. Además, un DataFrame puede contener múltiples columnas, cada una de las cuales es una Serie, mientras que una Serie representa una sola columna de datos.\n"
   ]
  },
  {
   "cell_type": "markdown",
   "metadata": {},
   "source": [
    "# Crea tu primer Dataframe"
   ]
  },
  {
   "cell_type": "markdown",
   "metadata": {},
   "source": [
    "\n",
    "Para almacenar datos en una tabla de forma manual, crea un DataFrame. Cuando utilices un diccionario de Python que contenga listas, las claves del diccionario se utilizarán como encabezados de columnas y los valores de cada lista como columnas del DataFrame."
   ]
  },
  {
   "cell_type": "code",
   "execution_count": 6,
   "metadata": {},
   "outputs": [],
   "source": [
    "diccionario  =     {\n",
    "        \"nombre\": [\n",
    "            \"Rodriguez, Andrea\",\n",
    "            \"Espindulapio, Romina\",\n",
    "            \"Messi, Leonel Andres\",],\n",
    "\n",
    "        \"edad\": [22, 35, 58],\n",
    "        \"sexo\": [\"mujer\", \"mujer\", \"hombre\"],\n",
    "    }\n",
    "\n",
    "    \n",
    "df = pd.DataFrame(diccionario)"
   ]
  },
  {
   "cell_type": "code",
   "execution_count": 4,
   "metadata": {},
   "outputs": [
    {
     "data": {
      "text/html": [
       "<div>\n",
       "<style scoped>\n",
       "    .dataframe tbody tr th:only-of-type {\n",
       "        vertical-align: middle;\n",
       "    }\n",
       "\n",
       "    .dataframe tbody tr th {\n",
       "        vertical-align: top;\n",
       "    }\n",
       "\n",
       "    .dataframe thead th {\n",
       "        text-align: right;\n",
       "    }\n",
       "</style>\n",
       "<table border=\"1\" class=\"dataframe\">\n",
       "  <thead>\n",
       "    <tr style=\"text-align: right;\">\n",
       "      <th></th>\n",
       "      <th>Nombre</th>\n",
       "      <th>Edad</th>\n",
       "      <th>Sexo</th>\n",
       "    </tr>\n",
       "  </thead>\n",
       "  <tbody>\n",
       "    <tr>\n",
       "      <th>0</th>\n",
       "      <td>Rodriguez, Andrea</td>\n",
       "      <td>22</td>\n",
       "      <td>mujer</td>\n",
       "    </tr>\n",
       "    <tr>\n",
       "      <th>1</th>\n",
       "      <td>Espindulapio, Romina</td>\n",
       "      <td>35</td>\n",
       "      <td>mujer</td>\n",
       "    </tr>\n",
       "    <tr>\n",
       "      <th>2</th>\n",
       "      <td>Messi, Leonel Andres</td>\n",
       "      <td>58</td>\n",
       "      <td>hombre</td>\n",
       "    </tr>\n",
       "  </tbody>\n",
       "</table>\n",
       "</div>"
      ],
      "text/plain": [
       "                 Nombre  Edad    Sexo\n",
       "0     Rodriguez, Andrea    22   mujer\n",
       "1  Espindulapio, Romina    35   mujer\n",
       "2  Messi, Leonel Andres    58  hombre"
      ]
     },
     "execution_count": 4,
     "metadata": {},
     "output_type": "execute_result"
    }
   ],
   "source": [
    "df"
   ]
  },
  {
   "cell_type": "markdown",
   "metadata": {},
   "source": [
    "\n",
    "Cuando seleccionas una única columna de un DataFrame de pandas, el resultado es una Serie de pandas. Para seleccionar la columna, utiliza la etiqueta de la columna entre corchetes []."
   ]
  },
  {
   "cell_type": "code",
   "execution_count": 7,
   "metadata": {},
   "outputs": [
    {
     "data": {
      "text/plain": [
       "0    22\n",
       "1    35\n",
       "2    58\n",
       "Name: edad, dtype: int64"
      ]
     },
     "execution_count": 7,
     "metadata": {},
     "output_type": "execute_result"
    }
   ],
   "source": [
    "df[\"edad\"]"
   ]
  },
  {
   "cell_type": "markdown",
   "metadata": {},
   "source": [
    "Pandas proporciona la función read_csv() para leer datos almacenados en un archivo CSV en un DataFrame de pandas. Pandas admite muchos formatos de archivo diferentes de manera predeterminada (csv, excel, sql, json, entre otros), cada uno de ellos con el prefijo read_*.\n",
    "\n",
    "Luego de leer los datos podemos utilizamos head() para ver una parte de todos nuestros datos."
   ]
  },
  {
   "cell_type": "code",
   "execution_count": null,
   "metadata": {},
   "outputs": [],
   "source": []
  },
  {
   "cell_type": "markdown",
   "metadata": {},
   "source": [
    "Puedes verificar cómo pandas interpretó cada uno de los tipos de datos de las columnas solicitando el atributo dtypes de pandas."
   ]
  },
  {
   "cell_type": "code",
   "execution_count": null,
   "metadata": {},
   "outputs": [],
   "source": []
  },
  {
   "cell_type": "markdown",
   "metadata": {},
   "source": [
    "Los métodos to_* se utilizan para almacenar datos. El método to_excel() guarda los datos como un archivo de Excel. En el ejemplo aquí, el nombre de la hoja se llama pasajeros en lugar del predeterminado Hoja1. Al establecer index=False, las etiquetas de índice de fila no se guardan en la hoja de cálculo.\n"
   ]
  },
  {
   "cell_type": "markdown",
   "metadata": {},
   "source": [
    "Para seleccionar varias columnas, utiliza una lista de nombres de columnas dentro de los corchetes de selección []. Y para ver los atributos shape y size del conjunto de datos, simplemente utiliza los métodos shape y size del DataFrame.\n"
   ]
  },
  {
   "cell_type": "code",
   "execution_count": null,
   "metadata": {},
   "outputs": [],
   "source": [
    "df = df[[\"columna1\",\"columna2\"]]"
   ]
  },
  {
   "cell_type": "markdown",
   "metadata": {},
   "source": [
    "Para filtrar por filas podemos utilizar condicionales y operadores logicos."
   ]
  },
  {
   "cell_type": "code",
   "execution_count": null,
   "metadata": {},
   "outputs": [],
   "source": [
    "# Filtrar filas basadas en una condición\n",
    "df_filtrado = df[df['columna'] == valor]\n",
    "\n",
    "# Filtrar filas basadas en múltiples condiciones\n",
    "df_filtrado = df[(df['columna1'] == valor1) & (df['columna2'] == valor2)]\n",
    "\n",
    "class_23 = titanic[titanic[\"Pclass\"].isin([2, 3])]\n",
    "\n",
    "\n"
   ]
  },
  {
   "cell_type": "markdown",
   "metadata": {},
   "source": [
    "Como puedo filtrar por filas y columnas especificas?\n",
    "Para filtrar filas y columnas específicas de un DataFrame en pandas, puedes utilizar el método loc[] o iloc[]. "
   ]
  },
  {
   "cell_type": "markdown",
   "metadata": {},
   "source": [
    "# Utilizando el método loc[] para filtrar por etiquetas de índice y nombres de columnas\n",
    "df_filtrado = df.loc[df['columna'] == valor]\n",
    "\n",
    "# Utilizando el método iloc[] para filtrar por índices enteros de fila y columnas\n",
    "df_filtrado = df.iloc[[fila1, fila2], :]"
   ]
  },
  {
   "cell_type": "markdown",
   "metadata": {},
   "source": [
    "EImaginemos que solo queremos trabajar con los datos que son conocidos."
   ]
  },
  {
   "cell_type": "code",
   "execution_count": null,
   "metadata": {},
   "outputs": [],
   "source": [
    "age_no_na = titanic[titanic[\"Age\"].notna()]"
   ]
  },
  {
   "cell_type": "markdown",
   "metadata": {},
   "source": [
    "En este caso, se hace un subconjunto tanto de filas como de columnas de una sola vez y simplemente usando corchetes de selección [] ya no es suficiente. Se requieren los operadores loc/iloc delante de los corchetes de selección []. Al usar loc/iloc, la parte antes de la coma son las filas que deseas, y la parte después de la coma son las columnas que deseas seleccionar.\n",
    "\n",
    "Cuando uses nombres de columna, etiquetas de fila o una expresión condicional, usa el operador loc delante de los corchetes de selección []. Tanto para la parte antes como después de la coma, puedes usar una única etiqueta, una lista de etiquetas, un segmento de etiquetas, una expresión condicional o dos puntos. Usar dos puntos especifica que deseas seleccionar todas las filas o columnas.\n",
    "\n",
    "Estoy interesado en las filas 10 a 25 y las columnas 3 a 5.\n",
    "\n",
    "```python\n",
    "titanic.iloc[9:25, 2:5]\n",
    "```\n",
    "\n",
    "Nuevamente, se hace un subconjunto tanto de filas como de columnas de una sola vez y simplemente usando corchetes de selección [] ya no es suficiente. Cuando estés específicamente interesado en ciertas filas y/o columnas según su posición en la tabla, usa el operador iloc delante de los corchetes de selección [].\n",
    "\n",
    "Cuando seleccionas filas y/o columnas específicas con loc o iloc, se pueden asignar nuevos valores a los datos seleccionados. Por ejemplo, para asignar el nombre \"anónimo\" a los primeros 3 elementos de la cuarta columna:\n",
    "\n",
    "```python\n",
    "titanic.iloc[0:3, 3] = \"anónimo\"\n",
    "```"
   ]
  },
  {
   "cell_type": "code",
   "execution_count": null,
   "metadata": {},
   "outputs": [],
   "source": []
  },
  {
   "cell_type": "markdown",
   "metadata": {},
   "source": [
    "La principal diferencia entre `loc` y `iloc` radica en cómo se utilizan para realizar selecciones en un DataFrame de pandas:\n",
    "\n",
    "1. **loc**: Se utiliza para acceder a filas y columnas por etiquetas. Esto significa que puedes seleccionar filas y columnas utilizando los nombres de las etiquetas de fila y los nombres de las columnas. Por ejemplo, puedes hacer selecciones como `df.loc['fila', 'columna']` o `df.loc[['fila1', 'fila2'], ['columna1', 'columna2']]`. Es útil cuando deseas realizar selecciones basadas en etiquetas específicas.\n",
    "\n",
    "2. **iloc**: Se utiliza para acceder a filas y columnas por índices enteros. Esto significa que puedes seleccionar filas y columnas utilizando índices enteros en lugar de nombres de etiquetas. Por ejemplo, puedes hacer selecciones como `df.iloc[0, 1]` o `df.iloc[[0, 1], [0, 1]]`. Es útil cuando deseas realizar selecciones basadas en la posición numérica de las filas y columnas.\n",
    "\n",
    "En resumen, `loc` se utiliza para selecciones basadas en etiquetas, mientras que `iloc` se utiliza para selecciones basadas en índices enteros."
   ]
  },
  {
   "cell_type": "markdown",
   "metadata": {},
   "source": [
    "Para crear nuevas columnas derivadas de columnas existentes en un DataFrame de pandas, puedes utilizar operadores matemáticos como +, -, *, /, así como operadores lógicos como <, >, ==, etc., que funcionan de forma elemento a elemento. Aquí tienes un ejemplo de cómo crear una nueva columna multiplicando una columna existente por un factor:\n",
    "\n",
    "```python\n",
    "air_quality[\"london_mg_per_cubic\"] = air_quality[\"station_london\"] * 1.882\n",
    "```\n",
    "\n",
    "Esto multiplicará cada valor en la columna \"station_london\" por 1.882 y asignará los resultados a una nueva columna llamada \"london_mg_per_cubic\".\n",
    "\n",
    "También puedes realizar operaciones más complejas o aplicar lógica personalizada utilizando el método `apply()`. Aquí tienes un ejemplo de cómo podrías usar `apply()` para aplicar una función personalizada a una columna existente y guardar los resultados en una nueva columna:\n",
    "\n",
    "```python\n",
    "# Definir una función personalizada para aplicar a la columna existente\n",
    "def custom_function(value):\n",
    "    # Realizar algún cálculo o lógica personalizada\n",
    "    return value * 2  # Por ejemplo, duplicar el valor\n",
    "\n",
    "# Aplicar la función personalizada utilizando apply() y asignar los resultados a una nueva columna\n",
    "air_quality[\"doubled_station_london\"] = air_quality[\"station_london\"].apply(custom_function)\n",
    "```\n",
    "\n",
    "Esto aplicará la función `custom_function` a cada valor en la columna \"station_london\" y asignará los resultados a una nueva columna llamada \"doubled_station_london\". Puedes personalizar la función `custom_function` según tus necesidades específicas."
   ]
  },
  {
   "cell_type": "markdown",
   "metadata": {},
   "source": [
    "Aquí tienes cómo usar la función `rename()` para cambiar tanto las etiquetas de las filas como las de las columnas en un DataFrame de pandas. Debes proporcionar un diccionario donde las claves son los nombres actuales y los valores son los nuevos nombres:\n",
    "\n",
    "```python\n",
    "air_quality_renamed = air_quality.rename(\n",
    "    columns={\n",
    "        \"station_antwerp\": \"BETR801\",\n",
    "        \"london_mg_per_cubic\": \"london_apm\"\n",
    "    },\n",
    "    inplace=True\n",
    ")\n",
    "```\n",
    "\n",
    "En este ejemplo, estamos cambiando el nombre de la columna \"station_antwerp\" a \"BETR801\" y el nombre de la columna \"london_mg_per_cubic\" a \"london_apm\". La opción `inplace=True` indica que los cambios deben realizarse en el propio DataFrame `air_quality` en lugar de devolver un nuevo DataFrame."
   ]
  },
  {
   "cell_type": "markdown",
   "metadata": {},
   "source": [
    "Para calcular estadísticas resumidas en un DataFrame de pandas, puedes utilizar el método `describe()`. Este método proporciona un resumen estadístico que incluye recuentos, media, desviación estándar, mínimo, percentiles y máximo para cada columna numérica del DataFrame. Aquí tienes un ejemplo:\n",
    "\n",
    "```python\n",
    "summary_statistics = air_quality.describe()\n",
    "```\n",
    "\n",
    "Esto generará un DataFrame que contiene las estadísticas resumidas para todas las columnas numéricas en `air_quality`.\n",
    "\n",
    "Para agregar estadísticas agrupadas por categoría en un DataFrame de pandas, puedes utilizar el método `groupby()` junto con funciones de agregación como `mean()`, `sum()`, `min()`, `max()`, etc. Esto te permite calcular estadísticas resumidas para subgrupos de datos basados en los valores de una o más columnas. Aquí tienes un ejemplo:\n",
    "\n",
    "```python\n",
    "grouped_statistics = air_quality.groupby(\"city\").mean()\n",
    "```\n",
    "\n",
    "Esto calculará la media de todas las columnas numéricas en `air_quality` agrupadas por la columna \"city\". Puedes reemplazar `mean()` con otras funciones de agregación según tus necesidades específicas."
   ]
  },
  {
   "cell_type": "markdown",
   "metadata": {},
   "source": [
    "### Contar el número de registros por categoría\n",
    "\n",
    "El método `value_counts()` cuenta el número de registros para cada categoría en una columna específica de un DataFrame. Por ejemplo, si queremos contar el número de pasajeros en el Titanic por clase de billete (Pclass), podemos usar:\n",
    "\n",
    "```python\n",
    "titanic[\"Pclass\"].value_counts()\n",
    "```\n",
    "\n",
    "Esto devolverá una Serie que muestra el recuento de pasajeros para cada clase de billete en orden descendente, es decir, comenzando desde la categoría con el mayor número de registros hasta la menor. Es una forma conveniente de obtener una visión general de la distribución de datos en una columna categórica."
   ]
  },
  {
   "cell_type": "markdown",
   "metadata": {},
   "source": [
    "# Cómo combinar datos de varias tablas\n",
    "\n",
    "**Concatenación de objetos**\n",
    "\n",
    "Quiero combinar las mediciones de `air_quality_pm25` y `air_quality_no2`, dos tablas con una estructura similar, en una sola tabla.\n",
    "\n",
    "```python\n",
    "air_quality = pd.concat([air_quality_pm25, air_quality_no2], axis=0)\n",
    "```\n",
    "\n",
    "La función `concat()` realiza operaciones de concatenación de múltiples tablas a lo largo de uno de los ejes (por filas o por columnas).\n",
    "\n",
    "Por defecto, la concatenación se realiza a lo largo del eje 0, por lo que la tabla resultante combina las filas de las tablas de entrada.\n",
    "\n",
    "*Nota*\n",
    "\n",
    "El argumento del eje (axis) devolverá en varios métodos de pandas que se pueden aplicar a lo largo de un eje. Un DataFrame tiene dos ejes correspondientes: el primero se ejecuta verticalmente hacia abajo a través de las filas (eje 0), y el segundo se ejecuta horizontalmente a través de las columnas (eje 1). La mayoría de las operaciones como la concatenación o las estadísticas resumidas son por defecto a lo largo de las filas (eje 0), pero también se pueden aplicar a lo largo de las columnas.\n",
    "\n",
    "La existencia de múltiples índices de fila/columna al mismo tiempo no ha sido mencionada dentro de estos tutoriales. El indexado jerárquico o MultiIndex es una característica avanzada y poderosa de pandas para analizar datos de dimensiones superiores.\n",
    "\n",
    "El indexado múltiple está fuera del alcance de esta introducción a pandas. Por el momento, recuerda que la función `reset_index` se puede utilizar para convertir cualquier nivel de un índice en una columna, por ejemplo, `air_quality.reset_index(level=0)`."
   ]
  },
  {
   "cell_type": "markdown",
   "metadata": {},
   "source": [
    "### Unir tablas usando un identificador común\n",
    "\n",
    "Usando la función `merge()`, para cada una de las filas en la tabla `air_quality`, se añaden las coordenadas correspondientes de la tabla `air_quality_stations_coord`. Ambas tablas tienen la columna `location` en común, que se utiliza como clave para combinar la información. Al elegir la unión izquierda (`left join`), solo las ubicaciones disponibles en la tabla `air_quality` (izquierda), es decir, FR04014, BETR801 y London Westminster, terminan en la tabla resultante. La función `merge` soporta múltiples opciones de unión similares a operaciones de estilo de base de datos."
   ]
  },
  {
   "cell_type": "markdown",
   "metadata": {},
   "source": [
    "## Cómo manipular datos de texto\n",
    "\n",
    "La manipulación de datos de texto es una parte importante del análisis de datos, especialmente cuando se trabaja con conjuntos de datos que contienen información textual. En pandas, la manipulación de datos de texto se realiza utilizando el atributo `.str` de una Serie, que proporciona acceso a una variedad de métodos y operaciones específicos para cadenas de caracteres.\n",
    "\n",
    "### Dividir cadenas de texto\n",
    "\n",
    "El método `.str.split(\",\")` se utiliza para dividir una cadena de texto en una Serie en función de un delimitador especificado, en este caso, una coma. Esto devuelve una Serie de listas, donde cada lista contiene los elementos resultantes de la división.\n",
    "\n",
    "### Crear una nueva columna \"Apellido\"\n",
    "\n",
    "Para crear una nueva columna \"Apellido\" que contenga el apellido de los pasajeros extrayendo la parte antes de la coma en la columna \"Nombre\", puedes usar `.str.split(\",\").str.get(0)`. Esto divide cada valor de la columna \"Nombre\" por la coma y extrae el primer elemento de cada lista resultante, que representa el apellido.\n",
    "\n",
    "### Reemplazar valores en la columna \"Sexo\"\n",
    "\n",
    "Para reemplazar los valores en la columna \"Sexo\", por ejemplo, cambiar \"masculino\" por \"M\" y \"femenino\" por \"F\", puedes utilizar el método `.replace()` en la columna \"Sexo\". Esto te permite especificar un diccionario de mapeo `{from: to}` que define las sustituciones a realizar.\n",
    "\n",
    "### Observaciones adicionales\n",
    "\n",
    "También se mencionan métodos más avanzados como `.str.contains()` y `.str.extract()`, que admiten expresiones regulares para realizar extracciones más potentes en cadenas de texto. Sin embargo, estos están fuera del alcance de este tutorial.\n",
    "\n",
    "La manipulación de datos de texto es una habilidad fundamental en el análisis de datos y permite realizar una amplia gama de operaciones, desde dividir y combinar cadenas hasta realizar búsquedas y sustituciones avanzadas."
   ]
  },
  {
   "cell_type": "markdown",
   "metadata": {},
   "source": [
    "Por supuesto, aquí tienes una explicación de los temas mencionados:\n",
    "\n",
    "### Cómo cambiar la disposición de las tablas\n",
    "\n",
    "Cambiar la disposición de las tablas es una tarea común en el análisis de datos. A menudo, los datos pueden presentarse en un formato que no es óptimo para el análisis o la visualización. La reorganización de la disposición de las tablas puede implicar cambiar entre formatos anchos y largos, agregar o dividir columnas, o cambiar el orden de las filas.\n",
    "\n",
    "### sort_values(by=\"\")\n",
    "\n",
    "El método `sort_values()` en pandas se utiliza para ordenar un DataFrame según los valores de una o varias columnas. Al especificar la columna (o lista de columnas) por la cual ordenar, puedes obtener el DataFrame ordenado según esos valores. Por ejemplo, `df.sort_values(by=\"columna\")` ordenará el DataFrame `df` según los valores de la columna especificada.\n",
    "\n",
    "### pandas.melt()\n",
    "\n",
    "`pandas.melt()` es una función que se utiliza para transformar un DataFrame de formato ancho a formato largo. En un DataFrame de formato ancho, las variables se representan en columnas separadas, mientras que en un DataFrame de formato largo, las variables y sus valores correspondientes se almacenan en filas. La función `melt()` permite especificar las columnas que deben mantenerse fijas (columnas de identificación) y las columnas que deben \"fundirse\" en una única columna, creando así un DataFrame de formato largo.\n",
    "\n",
    "### pivot() Wide vs long format\n",
    "\n",
    "El método `pivot()` en pandas se utiliza para reorganizar un DataFrame de formato largo a formato ancho. En un DataFrame de formato largo, cada fila representa una observación única, mientras que en un DataFrame de formato ancho, cada variable tiene su propia columna. El método `pivot()` permite especificar columnas de índice, columnas de valores y columnas de columnas, lo que resulta en una tabla pivote en formato ancho.\n",
    "\n",
    "La diferencia entre el formato ancho y largo radica en cómo se organizan y presentan los datos. El formato ancho es útil para comparar rápidamente los valores de diferentes variables para cada observación, mientras que el formato largo es más adecuado para análisis y visualización de datos más complejos, donde se pueden aplicar operaciones de agrupamiento y agregación más fácilmente."
   ]
  },
  {
   "cell_type": "markdown",
   "metadata": {},
   "source": [
    "- Las cadenas de fecha válidas pueden convertirse en objetos datetime utilizando la función `to_datetime` o como parte de las funciones de lectura.\n",
    "\n",
    "- Los objetos datetime en pandas admiten cálculos, operaciones lógicas y propiedades relacionadas con fechas convenientes utilizando el accesorio `dt`.\n",
    "\n",
    "- Un DatetimeIndex contiene estas propiedades relacionadas con fechas y admite cortes convenientes.\n",
    "\n",
    "- `resample` es un método poderoso para cambiar la frecuencia de una serie temporal.\n",
    "\n",
    "La manipulación de fechas y series temporales es una parte crucial del análisis de datos, especialmente cuando se trabaja con datos que tienen componentes de tiempo. Estas capacidades en pandas permiten realizar análisis avanzados, visualizaciones y modelado de datos temporales con facilidad y eficacia."
   ]
  }
 ],
 "metadata": {
  "kernelspec": {
   "display_name": "Python 3",
   "language": "python",
   "name": "python3"
  },
  "language_info": {
   "codemirror_mode": {
    "name": "ipython",
    "version": 3
   },
   "file_extension": ".py",
   "mimetype": "text/x-python",
   "name": "python",
   "nbconvert_exporter": "python",
   "pygments_lexer": "ipython3",
   "version": "3.9.0"
  }
 },
 "nbformat": 4,
 "nbformat_minor": 2
}
