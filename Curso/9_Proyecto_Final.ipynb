{
 "cells": [
  {
   "cell_type": "code",
   "execution_count": 1,
   "metadata": {},
   "outputs": [],
   "source": [
    "import pandas as pd"
   ]
  },
  {
   "cell_type": "markdown",
   "metadata": {},
   "source": [
    "El siguiente conjunto de datos fue recopilado mediante una encuesta realizada a través de Google Forms a estudiantes universitarios con el fin de examinar su situación académica actual y su salud mental. El conjunto original fue traducido del ingles al español y luego modificado a los fines pedagodicos de este curso."
   ]
  },
  {
   "cell_type": "code",
   "execution_count": 34,
   "metadata": {},
   "outputs": [],
   "source": [
    "path = r\"../DataSets/Salud_Mental_Estudiantes.csv\"\n",
    "\n",
    "df = pd.read_csv(path)"
   ]
  },
  {
   "cell_type": "code",
   "execution_count": 40,
   "metadata": {},
   "outputs": [],
   "source": [
    "df.replace({\n",
    "    \"anios_estudio\" : \"año\",\n",
    "    \"posee_tratamiento\" : \"tratamiento\"},\n",
    "    inplace = True\n",
    ")\n"
   ]
  },
  {
   "cell_type": "markdown",
   "metadata": {},
   "source": [
    "- eliminar -ataque de panico y -estado marital\n",
    "\n",
    "- duplicar los datos pero modificando un año menos y suviendo la nota\n",
    "\n",
    "- Generar insigths artificiales de otro tipo: ej_mas joven peor lleva las otas y el trastorno"
   ]
  },
  {
   "cell_type": "code",
   "execution_count": 33,
   "metadata": {},
   "outputs": [],
   "source": [
    "df.to_csv(\"Salud_Mental_Estudiantes.csv\", index=False)\n",
    "\n"
   ]
  }
 ],
 "metadata": {
  "kernelspec": {
   "display_name": "Python 3",
   "language": "python",
   "name": "python3"
  },
  "language_info": {
   "codemirror_mode": {
    "name": "ipython",
    "version": 3
   },
   "file_extension": ".py",
   "mimetype": "text/x-python",
   "name": "python",
   "nbconvert_exporter": "python",
   "pygments_lexer": "ipython3",
   "version": "3.11.9"
  }
 },
 "nbformat": 4,
 "nbformat_minor": 2
}
