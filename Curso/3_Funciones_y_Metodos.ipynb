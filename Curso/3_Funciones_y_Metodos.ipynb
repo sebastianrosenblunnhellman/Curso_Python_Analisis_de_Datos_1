{
 "cells": [
  {
   "cell_type": "markdown",
   "metadata": {},
   "source": [
    "# Módulo 5: Funciones"
   ]
  },
  {
   "cell_type": "markdown",
   "metadata": {},
   "source": [
    "## 5.1 Funciones integradas en Python (built-in)\n",
    "\n",
    "### Python incluye varias funciones integradas que se pueden utilizar directamente en el código. En lo que va del curso ya estuvimos usando funciones integradas en python sin saberlo. Pero.. que es una funcion ?\n",
    "\n",
    "print(): imprime un mensaje en la consola\n",
    "\n",
    "len(): devuelve la longitud de una cadena de texto, lista, tupla o diccionario\n",
    "\n",
    "type(): devuelve el tipo de un objeto\n",
    "\n",
    "input(): permite al usuario ingresar datos por teclado"
   ]
  },
  {
   "cell_type": "code",
   "execution_count": null,
   "metadata": {},
   "outputs": [],
   "source": [
    "# Ejemplo de mas funciones integradas"
   ]
  },
  {
   "cell_type": "markdown",
   "metadata": {},
   "source": [
    "## 5.2 Funciones definidas por el usuario\n",
    "\n",
    "### Además de las funciones integradas, en Python se pueden definir funciones personalizadas utilizando la palabra clave def, seguido del nombre de la funcion y entre parentesiss los argumentos, leego se escriben dos puntos y el bloque de codigo especifico,  seguido o no de un return para devolver valores."
   ]
  },
  {
   "cell_type": "code",
   "execution_count": null,
   "metadata": {},
   "outputs": [],
   "source": [
    "# Ejemplo de una función que saluda al usuario\n",
    "def saludar(nombre):\n",
    "    print(\"Hola, \" + nombre)\n",
    "\n",
    "# Llamamos a la función saludar()\n",
    "saludar(\"Juan\")\n",
    "\n",
    "# Ejemplo de una función que devuelve el doble de un número\n",
    "def doble(x):\n",
    "    return x * 2\n",
    "\n",
    "# Llamamos a la función doble() y mostramos el resultado\n",
    "resultado = doble(5)\n",
    "print(\"El doble de 5 es:\", resultado)\n",
    "\n",
    "# Ejemplo de una función con valores de parámetros predeterminados\n",
    "def mostrar_informacion(nombre, edad=None):\n",
    "    if edad:\n",
    "        print(\"Nombre:\", nombre)\n",
    "        print(\"Edad:\", edad)\n",
    "    else:\n",
    "        print(\"Nombre:\", nombre)\n",
    "\n",
    "# Llamamos a la función mostrar_informacion() con y sin el parámetro edad\n",
    "mostrar_informacion(\"Juan\")\n",
    "mostrar_informacion(\"Ana\", 25)\n"
   ]
  },
  {
   "cell_type": "markdown",
   "metadata": {},
   "source": [
    "## 5.3 Funciones lambda\n",
    "\n",
    "### Las funciones lambda son funciones anónimas que se definen en una sola línea de código. En esta sección, aprenderás a utilizar funciones lambda para crear funciones pequeñas y simples, y a utilizarlas como argumentos de otras funciones. También veremos cómo utilizar la función filter() y map() para aplicar funciones lambda a secuencias de datos."
   ]
  },
  {
   "cell_type": "code",
   "execution_count": 3,
   "metadata": {},
   "outputs": [
    {
     "name": "stdout",
     "output_type": "stream",
     "text": [
      "La suma es: 5\n",
      "Números pares: [2, 4]\n",
      "Números duplicados: [2, 4, 6, 8, 10]\n"
     ]
    }
   ],
   "source": [
    "# Definiendo una función lambda\n",
    "suma = lambda a, b: a + b\n",
    "\n",
    "# Llamando a la función lambda\n",
    "resultado = suma(2, 3)\n",
    "print(\"La suma es:\", resultado)\n",
    "\n",
    "# Utilizando una función lambda como argumento de la función filter()\n",
    "numeros = [1, 2, 3, 4, 5]\n",
    "numeros_pares = list(filter(lambda x: x % 2 == 0, numeros))\n",
    "print(\"Números pares:\", numeros_pares)\n",
    "\n",
    "# Utilizando una función lambda como argumento de la función map()\n",
    "numeros = [1, 2, 3, 4, 5]\n",
    "numeros_duplicados = list(map(lambda x: x * 2, numeros))\n",
    "print(\"Números duplicados:\", numeros_duplicados)\n"
   ]
  },
  {
   "cell_type": "markdown",
   "metadata": {},
   "source": [
    "## 5.4 Métodos\n",
    "\n",
    "### Los métodos son funciones que pertenecen a un objeto en particular, como una lista o una cadena de texto. En esta sección, veremos la diferencia entre funciones y métodos, y aprenderemos a utilizar métodos para realizar operaciones específicas en objetos. También veremos cómo utilizar la notación de punto para acceder a los métodos de un objeto y cómo utilizar la función help() para obtener información sobre los métodos disponibles en un objeto."
   ]
  },
  {
   "cell_type": "code",
   "execution_count": 6,
   "metadata": {},
   "outputs": [
    {
     "name": "stdout",
     "output_type": "stream",
     "text": [
      "Lista: [1, 2, 3, 4]\n",
      "Texto en mayúsculas: HOLA, MUNDO!\n"
     ]
    }
   ],
   "source": [
    "# Aprendiendo nuevos metodos para cada tipo de dato\n",
    "\n",
    "# Utilizando la función help() para obtener información sobre los métodos de una cadena de texto\n",
    "\n",
    "\n"
   ]
  }
 ],
 "metadata": {
  "kernelspec": {
   "display_name": "Python 3",
   "language": "python",
   "name": "python3"
  },
  "language_info": {
   "codemirror_mode": {
    "name": "ipython",
    "version": 3
   },
   "file_extension": ".py",
   "mimetype": "text/x-python",
   "name": "python",
   "nbconvert_exporter": "python",
   "pygments_lexer": "ipython3",
   "version": "3.11.9"
  }
 },
 "nbformat": 4,
 "nbformat_minor": 2
}
