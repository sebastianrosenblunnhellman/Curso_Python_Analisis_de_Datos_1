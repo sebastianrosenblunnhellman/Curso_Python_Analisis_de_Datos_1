{
 "cells": [
  {
   "cell_type": "markdown",
   "metadata": {},
   "source": [
    "# Módulo 2: Estructuras de datos en Python"
   ]
  },
  {
   "cell_type": "markdown",
   "metadata": {},
   "source": [
    ">## 2.1 Listas\n",
    "\n",
    "### Las listas son una colección ordenada y mutable de elementos. Los elementos de una lista pueden ser de cualquier tipo y se acceden mediante su índice."
   ]
  },
  {
   "cell_type": "code",
   "execution_count": 14,
   "metadata": {},
   "outputs": [
    {
     "name": "stdout",
     "output_type": "stream",
     "text": [
      "[1, 2, 3.14, 'hola', True]\n"
     ]
    }
   ],
   "source": [
    "# Creamos nuestra primera lista\n",
    "mi_lista = [1, 2, 3.14 , \"hola\", True]\n",
    "print(mi_lista)"
   ]
  },
  {
   "cell_type": "markdown",
   "metadata": {},
   "source": [
    "#### Que las listas sean una coleccion \"ordenada\" significa que los elementos de la lista tienen un orden definido, es decir, se pueden acceder a ellos utilizando su índice."
   ]
  },
  {
   "cell_type": "code",
   "execution_count": 15,
   "metadata": {},
   "outputs": [
    {
     "data": {
      "text/plain": [
       "1"
      ]
     },
     "execution_count": 15,
     "metadata": {},
     "output_type": "execute_result"
    }
   ],
   "source": [
    "# Accedemos a un elemento especifico a travez de su indice\n",
    "mi_lista[0] # El primer tiene el indice cero (y no uno)"
   ]
  },
  {
   "cell_type": "code",
   "execution_count": 16,
   "metadata": {},
   "outputs": [
    {
     "data": {
      "text/plain": [
       "[1, 2, 3.14]"
      ]
     },
     "execution_count": 16,
     "metadata": {},
     "output_type": "execute_result"
    }
   ],
   "source": [
    "# Tambien podemos acceder a un \"rango\" de elementos \n",
    "mi_lista[0:3] # Accedemos a un rango de elementos desde el 0 hasta el 3 (excluyendo el 3)"
   ]
  },
  {
   "cell_type": "markdown",
   "metadata": {},
   "source": [
    "#### \"Mutable\", por otro lado, significa que la lista puede ser modificada después de su creación. Esto significa que se pueden agregar, eliminar o cambiar elementos de la lista en cualquier momento"
   ]
  },
  {
   "cell_type": "code",
   "execution_count": 17,
   "metadata": {},
   "outputs": [
    {
     "data": {
      "text/plain": [
       "['elemento_modificado', 2, 3.14, 'hola', True]"
      ]
     },
     "execution_count": 17,
     "metadata": {},
     "output_type": "execute_result"
    }
   ],
   "source": [
    "# Cambiamos el elemnto en el indice 0 por el valor \"elemento_modificado\"\n",
    "mi_lista[0] = \"elemento_modificado\"\n",
    "mi_lista"
   ]
  },
  {
   "cell_type": "code",
   "execution_count": 18,
   "metadata": {},
   "outputs": [
    {
     "data": {
      "text/plain": [
       "['elemento_modificado', 3.14, 'hola', True, 'nuevo_elemento']"
      ]
     },
     "execution_count": 18,
     "metadata": {},
     "output_type": "execute_result"
    }
   ],
   "source": [
    "# Podemos agregar un elemento al final de la lista\n",
    "mi_lista.append(\"nuevo_elemento\")\n",
    "\n",
    "# Podemos eliminar un elemento especifico tambien\n",
    "mi_lista.remove(2)\n",
    "mi_lista"
   ]
  },
  {
   "cell_type": "markdown",
   "metadata": {},
   "source": [
    ">## 2.2 Tuplas\n",
    "\n",
    "### Las tuplas son una colección ordenada pero inmutable de elementos. Es decir que: a los elementos de una tupla tambien se acceden mediante su índice, pero estos elementos no pueden cambiar."
   ]
  },
  {
   "cell_type": "code",
   "execution_count": 1,
   "metadata": {},
   "outputs": [
    {
     "data": {
      "text/plain": [
       "1"
      ]
     },
     "execution_count": 1,
     "metadata": {},
     "output_type": "execute_result"
    }
   ],
   "source": [
    "# Creamos nuestra primera tupla\n",
    "mi_tupla = (1, 2, 3, \"hola\", True)\n",
    "\n",
    "# Accedemos al primer elemento \n",
    "mi_tupla[0]"
   ]
  },
  {
   "cell_type": "markdown",
   "metadata": {},
   "source": [
    ">## 2.3 Diccionarios\n",
    "\n",
    "### Los diccionarios son una colección desordenada y mutable de pares clave-valor. Los pares clave-valor se almacenan en un diccionario sin ningún orden en particular y se acceden mediante su clave."
   ]
  },
  {
   "cell_type": "code",
   "execution_count": null,
   "metadata": {},
   "outputs": [],
   "source": [
    "# Creamos nuestro primer diccionario\n",
    "mi_diccionario = {\"nombre\": \"Juan\", \n",
    "                    \"edad\": 30, \n",
    "                    \"ciudad\": \"Madrid\"}\n"
   ]
  },
  {
   "cell_type": "code",
   "execution_count": null,
   "metadata": {},
   "outputs": [],
   "source": [
    "# Observamos el resultado\n",
    "print(mi_diccionario)"
   ]
  },
  {
   "cell_type": "code",
   "execution_count": null,
   "metadata": {},
   "outputs": [],
   "source": [
    "# Accedemos a un valor especifico mediante la clave\n",
    "print(mi_diccionario[\"nombre\"])\n",
    "print(mi_diccionario[\"edad\"])"
   ]
  },
  {
   "cell_type": "code",
   "execution_count": null,
   "metadata": {},
   "outputs": [],
   "source": [
    "# Podemos crear un nuevo par clave-valor\n",
    "mi_diccionario[\"pais\"] = \"España\"\n",
    "print(mi_diccionario)"
   ]
  },
  {
   "cell_type": "code",
   "execution_count": null,
   "metadata": {},
   "outputs": [],
   "source": [
    "# Borramos un par clave-valor con del \n",
    "del mi_diccionario[\"edad\"]\n",
    "print(mi_diccionario)"
   ]
  },
  {
   "cell_type": "code",
   "execution_count": null,
   "metadata": {},
   "outputs": [],
   "source": [
    "# Combinando diccionarios y listas\n"
   ]
  }
 ],
 "metadata": {
  "kernelspec": {
   "display_name": "Python 3",
   "language": "python",
   "name": "python3"
  },
  "language_info": {
   "codemirror_mode": {
    "name": "ipython",
    "version": 3
   },
   "file_extension": ".py",
   "mimetype": "text/x-python",
   "name": "python",
   "nbconvert_exporter": "python",
   "pygments_lexer": "ipython3",
   "version": "3.9.0"
  }
 },
 "nbformat": 4,
 "nbformat_minor": 2
}
